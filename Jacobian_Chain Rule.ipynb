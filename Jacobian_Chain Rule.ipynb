{
  "nbformat": 4,
  "nbformat_minor": 0,
  "metadata": {
    "colab": {
      "provenance": []
    },
    "kernelspec": {
      "name": "python3",
      "display_name": "Python 3"
    },
    "language_info": {
      "name": "python"
    },
    "accelerator": "GPU",
    "gpuClass": "standard"
  },
  "cells": [
    {
      "cell_type": "code",
      "execution_count": null,
      "metadata": {
        "id": "eMzlm6DIWgC4",
        "colab": {
          "base_uri": "https://localhost:8080/"
        },
        "outputId": "5d04e468-c5a3-4f60-ab86-a052ec3236b2"
      },
      "outputs": [
        {
          "output_type": "stream",
          "name": "stdout",
          "text": [
            "tensor([[0.3991, 0.5521, 0.1004, 0.2844, 0.9998, 0.7077, 0.8031, 0.2066, 0.3589,\n",
            "         0.8509]])\n",
            "tensor([0.8753])\n"
          ]
        }
      ],
      "source": [
        "import torch\n",
        "import math\n",
        "# set your target device\n",
        "\n",
        "\n",
        "## Initialize and track the parameters using a list or dictionary\n",
        "\n",
        "device ='cpu'\n",
        "\n",
        "param_dict = {\n",
        "    \"W0\": torch.rand(8,100,requires_grad=True,device = device), # torch.rand(10,20,requires_grad=True,device = device)\n",
        "    \"b0\": torch.zeros(100,requires_grad=True,device = device),   #torch.zeros(20,requires_grad=True,device = device)\n",
        "    \"W1\": torch.rand(100,1,requires_grad=True,device = device),  # torch.rand(20,1,requires_grad=True,device = device)\n",
        "    \"b1\": torch.zeros(1,requires_grad=True,device = device),    # torch.zeros(1,requires_grad=True,device = device)\n",
        "    }\n",
        "\n",
        "#Nonlinearity = torch.tanh()\n",
        "## Define the network\n",
        "def my_nn(input, param_dict):\n",
        "    h = torch.tanh(torch.matmul(input,param_dict['W0'])+ param_dict['b0'])\n",
        "    output = (torch.matmul(h,param_dict['W1'])+ param_dict['b1'])\n",
        "    return output,h\n",
        "\n",
        "def absolute_loss(y_hat, y):\n",
        "    return torch.abs(y_hat - y)\n",
        "\n",
        "def initialize_nn(param_dict):\n",
        "    for name, param in param_dict.items():\n",
        "        param_dict[name] = torch.zeros_like(param)\n",
        "        if \"W\" in name:\n",
        "          param_dict[name] = param_dict[name].normal_(0, 1 / math.sqrt(param.size(0)))\n",
        "        # turn on parameter gradients for parameters, and move them to device\n",
        "        param_dict[name] = param_dict[name].to(device)\n",
        "        param_dict[name].requires_grad = True\n",
        "\n",
        "\n",
        "initialize_nn(param_dict)\n",
        "\n",
        "torch.manual_seed(68)\n",
        "x = torch.rand(1,10)\n",
        "y = torch.rand(1)\n",
        "\n",
        "print(x)\n",
        "print(y)"
      ]
    },
    {
      "cell_type": "code",
      "source": [
        "\n",
        "y_hat,h = my_nn(x,param_dict)\n",
        "Loss = absolute_loss (y_hat,y)\n",
        "Loss.backward()\n",
        "\n",
        "# Compute the gradients by hand\n",
        "\n",
        "dL_dy_hat = torch.sign(y_hat - y)\n",
        "dL_dw2 = dL_dy_hat * h\n",
        "dL_db2 = dL_dy_hat\n",
        "dL_da = dL_dy_hat * param_dict['W1']\n",
        "dL_db1 = dL_da * (1 - h.pow(2))\n",
        "dL_dW1 = x.transpose(0, 1).matmul(dL_da * (1 - h.pow(2)))\n",
        "\n",
        "# Compute the difference between gradients\n",
        "print('norm difference dL_dW1:', torch.linalg.norm(dL_dW1 - param_dict['W0'].grad))\n",
        "print('norm difference dL_db1:', torch.linalg.norm(dL_db1.squeeze() - param_dict['b0'].grad))\n",
        "print('norm difference dL_dw2:', torch.linalg.norm(dL_dw2.squeeze() - param_dict['W1'].grad))\n",
        "print('norm difference dL_db2:', torch.linalg.norm(dL_db2 - param_dict['b1'].grad))\n"
      ],
      "metadata": {
        "colab": {
          "base_uri": "https://localhost:8080/"
        },
        "id": "axjEoIMMhQTn",
        "outputId": "653fdffd-ef08-46c8-cf13-01f99b2d2cdf"
      },
      "execution_count": null,
      "outputs": [
        {
          "output_type": "stream",
          "name": "stdout",
          "text": [
            "norm difference dL_dW1: tensor(6.5663e-08, grad_fn=<LinalgVectorNormBackward0>)\n",
            "norm difference dL_db1: tensor(3.4409e-08, grad_fn=<LinalgVectorNormBackward0>)\n",
            "norm difference dL_dw2: tensor(0., grad_fn=<LinalgVectorNormBackward0>)\n",
            "norm difference dL_db2: tensor(0., grad_fn=<LinalgVectorNormBackward0>)\n"
          ]
        }
      ]
    },
    {
      "cell_type": "code",
      "source": [
        "import torch\n",
        "import torch.nn as nn\n",
        "import torch.optim as optim\n",
        "from sklearn.datasets import fetch_california_housing\n",
        "from sklearn.model_selection import train_test_split\n",
        "from torch.utils.data import DataLoader, TensorDataset\n",
        "import matplotlib.pyplot as plt\n",
        "import torch.nn.functional as F\n",
        "\n",
        "# Load the dataset\n",
        "data = fetch_california_housing()\n",
        "\n",
        "# Split the data into training and testing sets\n",
        "X_train, X_test, y_train, y_test = train_test_split(data.data, data.target, test_size=0.5, random_state=0)\n",
        "\n",
        "# Normalize the data\n",
        "X_mean = X_train.mean(axis=0)\n",
        "X_std = X_train.std(axis=0)\n",
        "y_mean = y_train.mean(axis=0)\n",
        "y_std = y_train.std(axis=0)\n",
        "\n",
        "X_train = (X_train - X_mean) / X_std\n",
        "y_train = (y_train - y_mean) / y_std\n",
        "X_test = (X_test - X_mean) / X_std\n",
        "y_test = (y_test - y_mean) / y_std\n",
        "\n",
        "# validation set\n",
        "X_train, X_val, y_train, y_val = train_test_split(X_train, y_train, test_size=0.2, random_state=0)\n",
        "\n",
        "train_dataset = TensorDataset(torch.Tensor(X_train), torch.Tensor(y_train))\n",
        "val_dataset = TensorDataset(torch.Tensor(X_val), torch.Tensor(y_val))\n",
        "test_dataset = TensorDataset(torch.Tensor(X_test), torch.Tensor(y_test))\n",
        "\n",
        "batch_size = 8\n",
        "trainloader = DataLoader(train_dataset, batch_size=batch_size, shuffle=True,drop_last=True)\n",
        "valloader = DataLoader(val_dataset, batch_size=batch_size, shuffle=True,drop_last=True)\n",
        "testloader = DataLoader(test_dataset, batch_size=batch_size, shuffle=True,drop_last=True)\n",
        "\n",
        "initialize_nn(param_dict)\n",
        "\n",
        "parameter_list = param_dict.values()\n",
        "\n",
        "optimizer = torch.optim.SGD(parameter_list, lr=0.1)\n",
        "\n",
        "val_interval = 5\n",
        "itter = 500\n",
        "Train_loss = []\n",
        "Train_Loss_Mse = []\n",
        "Test_loss = []\n",
        "Criterion = torch.nn.MSELoss()\n",
        "\n",
        "\n",
        "val_loss_list = []\n",
        "\n",
        "best_lr = None\n",
        "best_val_loss = float('inf')\n",
        "\n",
        "\n",
        "def my_zero_grad(param_dict):\n",
        "    for _, param in param_dict.items():\n",
        "        if param.grad is not None:\n",
        "            param.grad.detach_()\n",
        "            param.grad.zero_()\n",
        "\n",
        "def Loss_func (y_hat,y):\n",
        "  N = len(y)\n",
        "  loss = sum(abs(y-y_hat))/N\n",
        "  return loss\n",
        "\n",
        "\n",
        "for epoch in range (50):\n",
        "  train_loss = 0.0\n",
        "  for i,(data,target) in enumerate(trainloader):\n",
        "    #my_nn.train()\n",
        "    data = data.float()\n",
        "    target = target.float()\n",
        "    optimizer.zero_grad()\n",
        "    my_zero_grad(param_dict)\n",
        "\n",
        "    output,_ = my_nn(data,param_dict)\n",
        "    output = output.reshape(-1)\n",
        "    Loss = Loss_func(output,target)\n",
        "    Loss_MSE = Criterion(output,target)\n",
        "    train_loss += Loss_MSE.item()\n",
        "\n",
        "    Loss_MSE.backward()\n",
        "    optimizer.step()\n",
        "  train_loss /= len(trainloader)\n",
        "  Train_loss.append(train_loss)\n",
        "\n",
        "  # Evaluate the network on the validation set at regular intervals\n",
        "  val_loss = 0.0\n",
        "  with torch.no_grad():\n",
        "      for data, target in valloader:\n",
        "          output,_ = my_nn(data,param_dict)\n",
        "          output = output.squeeze()\n",
        "          loss = Loss_func(output, target)\n",
        "          val_loss += loss.item()\n",
        "      val_loss /= len(valloader)\n",
        "  # Save the best learning rate based on validation loss\n",
        "\n",
        "  if val_loss < best_val_loss:\n",
        "      best_val_loss = val_loss\n",
        "      for param_group in optimizer.param_groups:\n",
        "          best_lr = param_group['lr']\n",
        "  else :\n",
        "      for param_group in optimizer.param_groups:\n",
        "          param_group['lr'] = param_group['lr'] * 0.1   #updatinting Learning rate\n",
        "\n",
        "for epoch in range(50):\n",
        "  for t,(datas,targets) in enumerate(testloader):\n",
        "    #my_nn.eval()\n",
        "    test_loss = 0.0\n",
        "    with torch.no_grad():\n",
        "      my_zero_grad(param_dict)\n",
        "      datas = datas.float()\n",
        "      targets = targets.float()\n",
        "      output,_ = my_nn(datas,param_dict)\n",
        "      output = output.squeeze()\n",
        "      Loss = Loss_func(output,targets)\n",
        "      Loss_ = Criterion(output,targets)\n",
        "      test_loss +=Loss_\n",
        "\n",
        "  test_loss /=len(testloader)\n",
        "  Test_loss.append(test_loss)\n",
        "\n",
        "print('Best Learning Rate %.4f'%best_lr)\n",
        "plt.subplot(121)\n",
        "plt.plot(Train_loss)\n",
        "plt.title('Train loss')\n",
        "plt.subplot(122)\n",
        "plt.plot(Test_loss)\n",
        "plt.title('Test Loss')\n",
        "plt.show()"
      ],
      "metadata": {
        "id": "u-4R7ZI94Y7n",
        "colab": {
          "base_uri": "https://localhost:8080/",
          "height": 299
        },
        "outputId": "a13a1403-2ec6-4263-d5c6-73c0f6a8059f"
      },
      "execution_count": null,
      "outputs": [
        {
          "output_type": "stream",
          "name": "stdout",
          "text": [
            "Best Learning Rate 0.0010\n"
          ]
        },
        {
          "output_type": "display_data",
          "data": {
            "text/plain": [
              "<Figure size 432x288 with 2 Axes>"
            ],
            "image/png": "[encoded data removed]"
          },
          "metadata": {
            "needs_background": "light"
          }
        }
      ]
    },
    {
      "cell_type": "markdown",
      "source": [
        "### Question 2"
      ],
      "metadata": {
        "id": "EFn8hknVqRSv"
      }
    },
    {
      "cell_type": "code",
      "source": [
        "import torch\n",
        "device='cpu'\n",
        "cuda = torch.cuda.is_available()\n",
        "\n",
        "def jacobian_backward_(x,W_dict,L):\n",
        "  Hidden = []\n",
        "  for i in range(1, L+1):\n",
        "      W = W_dict[f'W{i}']\n",
        "      if i ==1:\n",
        "        h = torch.matmul(W,x)\n",
        "        Hidden.append(h)\n",
        "        h = torch.tanh(h)\n",
        "        Hidden.append(h)\n",
        "      else:\n",
        "        h = torch.matmul(W,h)\n",
        "        Hidden.append(h)\n",
        "        h = torch.tanh(h)\n",
        "        Hidden.append(h)\n",
        "  h = torch.matmul(W_dict[f'WF'],h)\n",
        "  dh = W_dict[f'WF']\n",
        "  dh = torch.matmul(dh,torch.diagflat(1-Hidden[5].pow(2)))\n",
        "  for i in range(L,0,-1):\n",
        "    if i==1:\n",
        "      dh = torch.matmul(dh,W_dict[f'W{i}'])\n",
        "    else:\n",
        "      dh = torch.matmul(torch.matmul(dh,W_dict[f'W{i}']),torch.diagflat(1-Hidden[2*i-3].pow(2)))\n",
        "  return dh"
      ],
      "metadata": {
        "id": "v6_mmxD9j2BS"
      },
      "execution_count": null,
      "outputs": []
    },
    {
      "cell_type": "markdown",
      "source": [
        "Test Jacobian"
      ],
      "metadata": {
        "id": "rtGkdaYWqKtY"
      }
    },
    {
      "cell_type": "code",
      "source": [
        "from torch.autograd.functional import jacobian\n",
        "\n",
        "# Define the input values\n",
        "D = 2\n",
        "K = 30\n",
        "P = 10\n",
        "L = 3\n",
        "device = 'cpu'\n",
        "torch.manual_seed(68)\n",
        "x = torch.randn(D,device = device)\n",
        "\n",
        "# Define the dictionary of matrices\n",
        "\n",
        "Ws = {\n",
        "    'W1': torch.randn(K, D, requires_grad= True,device = device),\n",
        "    'W2': torch.randn(K, K,requires_grad= True,device = device),\n",
        "    'W3': torch.randn(K, K,requires_grad= True,device = device),\n",
        "    'WF': torch.randn(P, K,requires_grad= True,device = device)\n",
        "}\n",
        "\n",
        "# Compute the Jacobian\n",
        "\n",
        "Jacobian = jacobian_backward_(x, Ws,L=3)\n",
        "\n",
        "print(Jacobian.shape)\n",
        "\n",
        "\n",
        "\n",
        "F = lambda x: torch.matmul(Ws['WF'].to(device),torch.tanh(torch.matmul(Ws['W3'].to(device), torch.tanh(torch.matmul(Ws['W2'].to(device), torch.tanh(torch.matmul(Ws['W1'].to(device),x)))))))\n",
        "\n",
        "J_true = jacobian(F, x).to(device)\n",
        "print (J_true.shape)\n",
        "\n",
        "print(torch.allclose(Jacobian, J_true))"
      ],
      "metadata": {
        "colab": {
          "base_uri": "https://localhost:8080/"
        },
        "id": "T17_sTuhqJ9f",
        "outputId": "57954f92-cd48-40bc-b7c3-74d995568cd0"
      },
      "execution_count": null,
      "outputs": [
        {
          "output_type": "stream",
          "name": "stdout",
          "text": [
            "torch.Size([10, 2])\n",
            "torch.Size([10, 2])\n",
            "True\n"
          ]
        }
      ]
    },
    {
      "cell_type": "markdown",
      "source": [
        "### 2)b"
      ],
      "metadata": {
        "id": "rIr4mguPtQ_v"
      }
    },
    {
      "cell_type": "code",
      "source": [
        "D = 2\n",
        "K = 30\n",
        "P = 10\n",
        "L = 3\n",
        "\n",
        "device = 'cpu'\n",
        "torch.manual_seed(68)\n",
        "x = torch.randn(D,device = device)\n",
        "\n",
        "# Computing Forward Jacobian\n",
        "def compute_jacobian_fwd(x, weights,L):\n",
        "    D = x.shape[0]\n",
        "    K = weights['W1'].shape[0]\n",
        "    P = weights['WF'].shape[0]\n",
        "    jacobian = torch.eye(D, dtype=torch.float, device = device, requires_grad=True)\n",
        "    for i in range(1, L+1):\n",
        "        w = weights[f'W{i}']\n",
        "        x = torch.matmul(w, x)\n",
        "        x = torch.tanh(x)\n",
        "        jacobian = torch.matmul(torch.matmul(torch.diag_embed(1 - x**2), w), jacobian)\n",
        "    jacobian = torch.matmul(weights['WF'], jacobian)\n",
        "    return jacobian\n",
        "\n",
        "# Compute Jacobian using both functions\n",
        "\n",
        "jacobian2 = jacobian_backward_(x, Ws,L=3)\n",
        "jacobian1 = compute_jacobian_fwd(x, Ws,L=3)\n",
        "\n",
        "# Validate that the Jacobians are equal\n",
        "torch.allclose(jacobian1, jacobian2, rtol=1e-05, atol=1e-08)"
      ],
      "metadata": {
        "colab": {
          "base_uri": "https://localhost:8080/"
        },
        "id": "w1kAx1drqhVW",
        "outputId": "320388ac-13e2-42c4-f2e0-abf6d75b105c"
      },
      "execution_count": null,
      "outputs": [
        {
          "output_type": "execute_result",
          "data": {
            "text/plain": [
              "True"
            ]
          },
          "metadata": {},
          "execution_count": 9
        }
      ]
    },
    {
      "cell_type": "markdown",
      "source": [
        "###2)C"
      ],
      "metadata": {
        "id": "4EfTGzFh5efh"
      }
    },
    {
      "cell_type": "code",
      "source": [
        "import time\n",
        "\n",
        "def benchmark_jacobian(L, device):\n",
        "    # Define test case\n",
        "    D, K, P = 2, 30, 10\n",
        "    x = torch.randn(D).to(device)\n",
        "    weights = {\n",
        "        'W1': torch.randn(K, D).to(device),\n",
        "        'WF': torch.randn(P, K).to(device),\n",
        "    }\n",
        "    for i in range(2, L+1):\n",
        "        weights[f'W{i}'] = torch.randn(K, K).to(device)\n",
        "\n",
        "    # Compute Jacobian using backward mode automatic differentiation\n",
        "    start_time = time.time()\n",
        "    jacobian1 = jacobian_backward_(x, weights,L)\n",
        "    end_time = time.time()\n",
        "    time1 = end_time - start_time\n",
        "\n",
        "    # Compute Jacobian using forward mode automatic differentiation\n",
        "    start_time = time.time()\n",
        "    jacobian2 = compute_jacobian_fwd(x, weights,L)\n",
        "    end_time = time.time()\n",
        "    time2 = end_time - start_time\n",
        "\n",
        "    return time1, time2"
      ],
      "metadata": {
        "id": "ZwAhEsvyrnzV"
      },
      "execution_count": null,
      "outputs": []
    },
    {
      "cell_type": "code",
      "source": [
        "L_values = [3, 5, 10]\n",
        "\n",
        "# Define devices to test\n",
        "devices = {\n",
        "    'cpu': torch.device('cpu'),\n",
        "    'gpu': torch.device('cuda')\n",
        "}\n",
        "\n",
        "# Run benchmark for each combination of L and device\n",
        "for L in L_values:\n",
        "    print(f\"L = {L}\")\n",
        "    for device_name, device in devices.items():\n",
        "        print(f\"Device: {device_name}\")\n",
        "        time1, time2 = benchmark_jacobian(L, device)\n",
        "        print(f\"Time (backward mode): {time1:.6f} seconds\")\n",
        "        print(f\"Time (forward mode): {time2:.6f} seconds\")"
      ],
      "metadata": {
        "colab": {
          "base_uri": "https://localhost:8080/"
        },
        "id": "uDoHgVsA-Umu",
        "outputId": "74d61b7f-0062-4986-a934-8c550a84f590"
      },
      "execution_count": null,
      "outputs": [
        {
          "output_type": "stream",
          "name": "stdout",
          "text": [
            "L = 3\n",
            "Device: cpu\n",
            "Time (backward mode): 0.000307 seconds\n",
            "Time (forward mode): 0.000228 seconds\n",
            "Device: gpu\n",
            "Time (backward mode): 0.000690 seconds\n",
            "Time (forward mode): 0.000537 seconds\n",
            "L = 5\n",
            "Device: cpu\n",
            "Time (backward mode): 0.000359 seconds\n",
            "Time (forward mode): 0.000377 seconds\n",
            "Device: gpu\n",
            "Time (backward mode): 0.000817 seconds\n",
            "Time (forward mode): 0.000556 seconds\n",
            "L = 10\n",
            "Device: cpu\n",
            "Time (backward mode): 0.000380 seconds\n",
            "Time (forward mode): 0.000433 seconds\n",
            "Device: gpu\n",
            "Time (backward mode): 0.001001 seconds\n",
            "Time (forward mode): 0.001411 seconds\n"
          ]
        }
      ]
    },
    {
      "cell_type": "markdown",
      "source": [
        "###2)d\n"
      ],
      "metadata": {
        "id": "hWAopJk7ZnFF"
      }
    },
    {
      "cell_type": "markdown",
      "source": [
        "Theoretical speed comparisons of (b) and (c) depend on the size of the input x and the number of layers L. The backward mode implementation requires computing the Jacobian by performing forward passes for each of the D dimensions of x, followed by a backward pass to compute the gradient. This means that the backward mode implementation requires L forward passes and L backward passes, each involving K matrix multiplications of size KxD, KxK, or PxK, for a total of 2LK(KD+K^2+PK) operations.\n",
        "\n",
        "The forward mode implementation requires only one forward pass of the entire network, followed by a backward pass to compute the Jacobian. This means that the forward mode implementation requires one forward pass involving L matrix multiplications of size KxK and one backward pass involving L matrix multiplications of size DxK, for a total of 2LK^2 + LDK operations.\n",
        "\n"
      ],
      "metadata": {
        "id": "wTqx_TpYdaPq"
      }
    },
    {
      "cell_type": "markdown",
      "source": [
        "### 3)a"
      ],
      "metadata": {
        "id": "59VJ0Kj9bDia"
      }
    },
    {
      "cell_type": "markdown",
      "source": [
        "We can build one neuron in input layer, three neuron in hidden layer and one neuron in output layer, with the following weight and biases.\n",
        "\n",
        "h1(x) = ReLU(2x)\n",
        "\n",
        "h2(x) = ReLU(4(x - 1/2))\n",
        "\n",
        "h2(x) = ReLU(2(x - 1))\n",
        "\n",
        "f(x) = h1(x) - h2(x) +h3(x) # output of f(x)"
      ],
      "metadata": {
        "id": "ZVdO1woabAm1"
      }
    },
    {
      "cell_type": "markdown",
      "source": [
        "### 3)b"
      ],
      "metadata": {
        "id": "gZGfR4k5iPBV"
      }
    },
    {
      "cell_type": "markdown",
      "source": [
        "We can build one neuron in input layer, two neuron in hidden layer and one neuron in output layer, with the following weight and biases.\n",
        "\n",
        "h1(x) = ReLU(x - s) # output of max(x - s, 0)\n",
        "\n",
        "h2(x) = ReLU(-x - s) # output of max(-x - s, 0)\n",
        "\n",
        "f(x) = h1(x) - h2(x) # output of f(x)"
      ],
      "metadata": {
        "id": "SWuRQK8UiPYF"
      }
    },
    {
      "cell_type": "markdown",
      "source": [
        "### 4)a,b"
      ],
      "metadata": {
        "id": "uqxr6GdUqjm-"
      }
    },
    {
      "cell_type": "code",
      "source": [
        "import torch.nn as nn\n",
        "\n",
        "class My_Model(nn.Module):\n",
        "  def __init__(self,depth):\n",
        "    super(My_Model, self).__init__()\n",
        "    self.depth = depth\n",
        "    self.layers = nn.ModuleList()\n",
        "    self.layers.append(nn.Linear(784, 50))\n",
        "    for i in range(depth - 1):\n",
        "        self.layers.append(nn.Linear(50, 50))\n",
        "    self.layers.append(nn.Linear(50, 10))\n",
        "\n",
        "  def init_weights(self, d):\n",
        "    if d=='xavier':\n",
        "      for layer in self.layers:\n",
        "         nn.init.xavier_uniform_(layer.weight)\n",
        "    else:\n",
        "      for layer in self.layers:\n",
        "          nn.init.uniform_(layer.weight, -d, d)\n",
        "          nn.init.zeros_(layer.bias)\n",
        "  def forward(self, x):\n",
        "    x = x.view(-1, 784)\n",
        "    activations = []\n",
        "    for layer in self.layers[:-1]:\n",
        "        x = torch.tanh(layer(x))\n",
        "        activations.append(x)\n",
        "    logits = self.layers[-1](x)\n",
        "    return activations, logits"
      ],
      "metadata": {
        "id": "XmOx3Gc5d_YM"
      },
      "execution_count": null,
      "outputs": []
    },
    {
      "cell_type": "markdown",
      "source": [
        "### 4)c"
      ],
      "metadata": {
        "id": "ewlw1KyPsOYX"
      }
    },
    {
      "cell_type": "code",
      "source": [
        "import torchvision.datasets as datasets\n",
        "import torchvision.transforms as transforms\n",
        "import torch\n",
        "import torch.nn.functional as F\n",
        "import matplotlib.pyplot as plt\n",
        "\n",
        "train_dataset = datasets.MNIST(root='./data', train=True, download=True, transform=transforms.ToTensor())\n",
        "train_loader = torch.utils.data.DataLoader(train_dataset, batch_size=256, shuffle=False)\n",
        "\n",
        "test_dataset = datasets.MNIST(root='./data', train=False, download=True, transform=transforms.ToTensor())\n",
        "test_loader = torch.utils.data.DataLoader(test_dataset, batch_size=256, shuffle=False)\n",
        "\n",
        "ds = [0.01, 0.1, 2.0, 'xavier']\n",
        "model = My_Model(depth=8)\n",
        "\n",
        "for d in ds:\n",
        "\n",
        "    model.init_weights(d)\n",
        "\n",
        "    # Forward and backward pass to compute gradient norms\n",
        "    x, y = next(iter(train_loader))\n",
        "    activations, logits = model(x)\n",
        "    loss = F.cross_entropy(logits, y)\n",
        "    gradient_norms = []\n",
        "    for i, act in enumerate(activations):\n",
        "        grads = torch.autograd.grad(loss, act, retain_graph=True)\n",
        "        grad_norms = [g.norm() for g in grads]\n",
        "        gradient_norms.append(grad_norms)\n",
        "    # Plot gradient norms\n",
        "\n",
        "\n",
        "    plt.plot(gradient_norms)\n",
        "    plt.title(f\"Gradient Norms (d={d})\")\n",
        "    plt.xlabel(\"Layer\")\n",
        "    plt.ylabel(\"Gradient Norm\")\n",
        "    plt.show()\n"
      ],
      "metadata": {
        "colab": {
          "base_uri": "https://localhost:8080/",
          "height": 1000
        },
        "id": "MbASZTQOsNoj",
        "outputId": "3272977f-669b-4aea-f7d8-2b637e2fb1e2"
      },
      "execution_count": null,
      "outputs": [
        {
          "output_type": "display_data",
          "data": {
            "text/plain": [
              "<Figure size 432x288 with 1 Axes>"
            ],
            "image/png": "[encoded data removed]"
          },
          "metadata": {
            "needs_background": "light"
          }
        },
        {
          "output_type": "display_data",
          "data": {
            "text/plain": [
              "<Figure size 432x288 with 1 Axes>"
            ],
            "image/png": "[encoded data removed]"
          },
          "metadata": {
            "needs_background": "light"
          }
        },
        {
          "output_type": "display_data",
          "data": {
            "text/plain": [
              "<Figure size 432x288 with 1 Axes>"
            ],
            "image/png": "[encoded data removed]"
          },
          "metadata": {
            "needs_background": "light"
          }
        },
        {
          "output_type": "display_data",
          "data": {
            "text/plain": [
              "<Figure size 432x288 with 1 Axes>"
            ],
            "image/png": "[encoded data removed]"
          },
          "metadata": {
            "needs_background": "light"
          }
        }
      ]
    },
    {
      "cell_type": "markdown",
      "source": [
        "###4)d"
      ],
      "metadata": {
        "id": "5jF_KaZNmM5K"
      }
    },
    {
      "cell_type": "code",
      "source": [
        "import numpy as np\n",
        "import matplotlib.pyplot as plt\n",
        "\n",
        "train_loader = torch.utils.data.DataLoader(train_dataset, batch_size=256, shuffle=True)\n",
        "optimizer = torch.optim.SGD(model.parameters(), lr=0.01, momentum=0.9)\n",
        "num_epoch = 5\n",
        "\n",
        "train_history = {\n",
        "    'train_loss0': [],\n",
        "    'train_acc_0': [],\n",
        "    'train_loss1': [],\n",
        "    'train_acc_1': [],\n",
        "    'train_loss2': [],\n",
        "    'train_acc_2': [],\n",
        "    'train_loss3': [],\n",
        "    'train_acc_3': [],\n",
        "}\n",
        "\n",
        "test_history = {\n",
        "    'test_loss0': [],\n",
        "    'test_acc_0': [],\n",
        "    'test_loss1': [],\n",
        "    'test_acc_1': [],\n",
        "    'test_loss2': [],\n",
        "    'test_acc_2': [],\n",
        "    'test_loss3': [],\n",
        "    'test_acc_3': [],\n",
        "}\n",
        "\n",
        "for i,d in enumerate(ds):\n",
        "    model.init_weights(d)\n",
        "    # Forward and backward pass to compute gradient norms\n",
        "    for epoch in range(num_epoch):\n",
        "      model.train()\n",
        "      train_loss = 0.0\n",
        "      correct = 0\n",
        "      total = 0\n",
        "      for data,target in train_loader:\n",
        "        _, logits = model(data)\n",
        "        loss = F.cross_entropy(logits, target)\n",
        "        optimizer.zero_grad()\n",
        "        loss.backward()\n",
        "        optimizer.step()\n",
        "        train_loss += loss.item() * data.size(0)\n",
        "        _, predicted = torch.max(logits.data, 1)\n",
        "        total += target.size(0)\n",
        "        correct += (predicted == target).sum().item()\n",
        "      train_loss /= len(train_loader.dataset)\n",
        "      train_accuracy = 100 * correct / total\n",
        "      train_history[f'train_loss{i}'].append((train_loss)/len(train_loader))\n",
        "      train_history[f'train_acc_{i}'].append(100 * correct / len(train_dataset))\n",
        "      if d== 'xavier':\n",
        "        print('train_accuracy %.4f for initialization Xavier and Epoch number %d' % (torch.tensor(np.array(train_history[f'train_acc_{i}'][epoch])),(epoch+1)))\n",
        "      else:\n",
        "        print('train_accuracy %.4f for initialization %.4f and Epoch number %d' % (torch.tensor(np.array(train_history[f'train_acc_{i}'][epoch])),d,(epoch+1)))\n",
        "      with torch.no_grad():\n",
        "        model.eval()\n",
        "        test_loss = 0.0\n",
        "        correct_test = 0\n",
        "        total_test = 0\n",
        "        for data,target in test_loader:\n",
        "          _, logits = model(data)\n",
        "          loss = F.cross_entropy(logits, target)\n",
        "          test_loss += loss.item() * data.size(0)\n",
        "          _, predicted = torch.max(logits.data, 1)\n",
        "          total_test += target.size(0)\n",
        "          correct_test += (predicted == target).sum().item()\n",
        "        test_loss /= len(test_loader.dataset)\n",
        "        test_accuracy = 100 * correct_test / total_test\n",
        "        test_history[f'test_loss{i}'].append((test_loss)/len(test_loader))\n",
        "        test_history[f'test_acc_{i}'].append(100 * correct_test / len(test_dataset))\n",
        "        if d== 'xavier':\n",
        "          print('test_accuracy %.4f for initialization Xavier and Epoch number %d' % (torch.tensor(np.array(test_history[f'test_acc_{i}'][epoch])),(epoch+1)))\n",
        "        else:\n",
        "          print('test_accuracy %.4f for initialization %.4f and Epoch number %d' % (torch.tensor(np.array(test_history[f'test_acc_{i}'][epoch])),d,(epoch+1)))\n",
        "\n"
      ],
      "metadata": {
        "colab": {
          "base_uri": "https://localhost:8080/"
        },
        "id": "yHESdSxB4GVj",
        "outputId": "6239b6b5-5d16-4b39-862e-c77d5bec31a0"
      },
      "execution_count": null,
      "outputs": [
        {
          "output_type": "stream",
          "name": "stdout",
          "text": [
            "train_accuracy 11.2083 for initialization 0.0100 and Epoch number 1\n",
            "test_accuracy 11.3500 for initialization 0.0100 and Epoch number 1\n",
            "train_accuracy 11.2367 for initialization 0.0100 and Epoch number 2\n",
            "test_accuracy 11.3500 for initialization 0.0100 and Epoch number 2\n",
            "train_accuracy 11.2367 for initialization 0.0100 and Epoch number 3\n",
            "test_accuracy 11.3500 for initialization 0.0100 and Epoch number 3\n",
            "train_accuracy 11.2367 for initialization 0.0100 and Epoch number 4\n",
            "test_accuracy 11.3500 for initialization 0.0100 and Epoch number 4\n",
            "train_accuracy 11.2367 for initialization 0.0100 and Epoch number 5\n",
            "test_accuracy 11.3500 for initialization 0.0100 and Epoch number 5\n",
            "train_accuracy 11.2150 for initialization 0.1000 and Epoch number 1\n",
            "test_accuracy 11.3500 for initialization 0.1000 and Epoch number 1\n",
            "train_accuracy 11.2367 for initialization 0.1000 and Epoch number 2\n",
            "test_accuracy 11.3500 for initialization 0.1000 and Epoch number 2\n",
            "train_accuracy 11.2367 for initialization 0.1000 and Epoch number 3\n",
            "test_accuracy 11.3500 for initialization 0.1000 and Epoch number 3\n",
            "train_accuracy 11.2367 for initialization 0.1000 and Epoch number 4\n",
            "test_accuracy 11.3500 for initialization 0.1000 and Epoch number 4\n",
            "train_accuracy 11.2367 for initialization 0.1000 and Epoch number 5\n",
            "test_accuracy 11.3500 for initialization 0.1000 and Epoch number 5\n",
            "train_accuracy 10.3500 for initialization 2.0000 and Epoch number 1\n",
            "test_accuracy 10.3200 for initialization 2.0000 and Epoch number 1\n",
            "train_accuracy 10.4467 for initialization 2.0000 and Epoch number 2\n",
            "test_accuracy 9.8800 for initialization 2.0000 and Epoch number 2\n",
            "train_accuracy 10.6083 for initialization 2.0000 and Epoch number 3\n",
            "test_accuracy 10.1000 for initialization 2.0000 and Epoch number 3\n",
            "train_accuracy 10.4267 for initialization 2.0000 and Epoch number 4\n",
            "test_accuracy 10.2700 for initialization 2.0000 and Epoch number 4\n",
            "train_accuracy 10.4250 for initialization 2.0000 and Epoch number 5\n",
            "test_accuracy 9.7400 for initialization 2.0000 and Epoch number 5\n",
            "train_accuracy 70.6483 for initialization Xavier and Epoch number 1\n",
            "test_accuracy 89.6600 for initialization Xavier and Epoch number 1\n",
            "train_accuracy 91.8433 for initialization Xavier and Epoch number 2\n",
            "test_accuracy 93.6000 for initialization Xavier and Epoch number 2\n",
            "train_accuracy 94.1283 for initialization Xavier and Epoch number 3\n",
            "test_accuracy 94.9900 for initialization Xavier and Epoch number 3\n",
            "train_accuracy 95.4383 for initialization Xavier and Epoch number 4\n",
            "test_accuracy 95.5800 for initialization Xavier and Epoch number 4\n",
            "train_accuracy 96.0817 for initialization Xavier and Epoch number 5\n",
            "test_accuracy 95.4600 for initialization Xavier and Epoch number 5\n"
          ]
        }
      ]
    },
    {
      "cell_type": "markdown",
      "source": [
        "Plotting train and test accuracy"
      ],
      "metadata": {
        "id": "3F5PEsEAoNDs"
      }
    },
    {
      "cell_type": "code",
      "source": [
        "for i,d in enumerate(ds):\n",
        "  plt.subplot(121)\n",
        "  plt.plot(train_history[f'train_acc_{i}'])\n",
        "  plt.title(f\"initialization (d={d})\")\n",
        "  plt.xlabel(\"Epoch\")\n",
        "  plt.ylabel(\"Train_Accuracy\")\n",
        "  plt.subplot(122)\n",
        "  plt.plot(test_history[f'test_acc_{i}'])\n",
        "  plt.title(f\"initialization (d={d})\")\n",
        "  plt.xlabel(\"Epoch\")\n",
        "  plt.ylabel(\"Test_Accuracy\")\n",
        "  plt.show()\n"
      ],
      "metadata": {
        "colab": {
          "base_uri": "https://localhost:8080/",
          "height": 1000
        },
        "id": "fwCiZnWNoMU_",
        "outputId": "8287597c-ce7d-43d7-8476-19dfcb5dc0d6"
      },
      "execution_count": null,
      "outputs": [
        {
          "output_type": "display_data",
          "data": {
            "text/plain": [
              "<Figure size 432x288 with 2 Axes>"
            ],
            "image/png": "[encoded data removed]"
          },
          "metadata": {
            "needs_background": "light"
          }
        },
        {
          "output_type": "display_data",
          "data": {
            "text/plain": [
              "<Figure size 432x288 with 2 Axes>"
            ],
            "image/png": "[encoded data removed]"
          },
          "metadata": {
            "needs_background": "light"
          }
        },
        {
          "output_type": "display_data",
          "data": {
            "text/plain": [
              "<Figure size 432x288 with 2 Axes>"
            ],
            "image/png": "[encoded data removed]"
          },
          "metadata": {
            "needs_background": "light"
          }
        },
        {
          "output_type": "display_data",
          "data": {
            "text/plain": [
              "<Figure size 432x288 with 2 Axes>"
            ],
            "image/png": "[encoded data removed]"
          },
          "metadata": {
            "needs_background": "light"
          }
        }
      ]
    },
    {
      "cell_type": "markdown",
      "source": [
        "### 4)e"
      ],
      "metadata": {
        "id": "Pqi-zY5eoYy7"
      }
    },
    {
      "cell_type": "markdown",
      "source": [
        "As you can see the accuracy increased significantly after initializing  with Xavier method, which we can see that importance of initialization in learning"
      ],
      "metadata": {
        "id": "Nfvaqw9RoajC"
      }
    },
    {
      "cell_type": "markdown",
      "source": [
        "###5"
      ],
      "metadata": {
        "id": "yZ903kto1c1t"
      }
    },
    {
      "cell_type": "markdown",
      "source": [
        "(a) To find the expression for the gradient, we first expand the squared norm:\n",
        "\n",
        "L(X,w, y) = 1/2 * (Xw - y)^T (Xw - y)\n",
        "= 1/2 * (w^T X^T X w - 2 y^T X w + y^T y)\n",
        "\n",
        "Taking the derivative with respect to w, we get:\n",
        "\n",
        "∇w L(X,w, y) = X^T X w - X^T y\n",
        "\n",
        "(b) Starting with w0 and using a step size of α, the first iteration of gradient descent is:\n",
        "\n",
        "w1 = w0 - α ∇w L(X,w0, y)\n",
        "= w0 - α (X^T X w0 - X^T y)\n",
        "\n",
        "The second iteration of gradient descent is:\n",
        "\n",
        "w2 = w1 - α ∇w L(X,w1, y)\n",
        "= w1 - α (X^T X w1 - X^T y)\n",
        "= w0 - α (X^T X w0 - X^T y) - α (X^T X (w0 - α (X^T X w0 - X^T y)) - X^T y)\n",
        "= w0 - α (X^T X w0 - X^T y) - α (X^T X w0 - X^T y) + α^2 X^T X (X^T X w0 - X^T y)\n",
        "= w0 - 2α (X^T X w0 - X^T y) + α^2 X^T X X^T X w0 - α^2 X^T X X^T y\n",
        "\n",
        "(c) The kth iteration of gradient descent is:\n",
        "\n",
        "wk = wk-1 - α ∇w L(X,wk-1, y)\n",
        "= wk-1 - α (X^T X wk-1 - X^T y)\n",
        "\n",
        "Expanding this equation iteratively, we get:\n",
        "\n",
        "wk = w0 - α (X^T X w0 - X^T y) - α (X^T X w1 - X^T y) - ... - α (X^T X wk-1 - X^T y)\n",
        "= w0 - α (X^T X + X^T X + ... + X^T X) wk-1 + α (X^T y + X^T y + ... + X^T y)\n",
        "= (I - α X^T X)^k w0 + α sum(X^T y)\n",
        "\n",
        "(d) To show that gradient descent converges to the minimum in (a), we need to show that the iterates wk approach the minimizer of L(X,w, y) as k → ∞. We can do this by showing that the norm of the difference between wk and the minimizer approaches zero as k → ∞. Using the expression for wk from (c), we have:\n",
        "\n",
        "||wk - argminw L(X,w, y)|| = ||(I - α X^T X)^k w0 - (I - α X^T X)^k argminw L(X,w, y)||\n",
        "<= ||(I - α X^T X)^k|| ||w0 - argminw L(X,w, y)||\n",
        "\n",
        "where the inequality follows from the triangle inequality. We can assume that XTX is positive definite and that α is chosen such that the spectral radius of I - αXTX is less than one, which ensures that ||(I - α X^T X)^k|| approaches zero as k → ∞. Therefore, the norm of the difference between wk\n",
        "\n",
        "\n",
        "\n"
      ],
      "metadata": {
        "id": "ZFTeqg9g1ZJh"
      }
    }
  ]
}